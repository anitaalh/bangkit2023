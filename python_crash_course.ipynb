{
  "nbformat": 4,
  "nbformat_minor": 0,
  "metadata": {
    "colab": {
      "provenance": [],
      "authorship_tag": "ABX9TyNnZRDgUnHzd5OJoPdgu5ZR",
      "include_colab_link": true
    },
    "kernelspec": {
      "name": "python3",
      "display_name": "Python 3"
    },
    "language_info": {
      "name": "python"
    }
  },
  "cells": [
    {
      "cell_type": "markdown",
      "metadata": {
        "id": "view-in-github",
        "colab_type": "text"
      },
      "source": [
        "<a href=\"https://colab.research.google.com/github/anitaalh/bangkit2023/blob/main/python_crash_course.ipynb\" target=\"_parent\"><img src=\"https://colab.research.google.com/assets/colab-badge.svg\" alt=\"Open In Colab\"/></a>"
      ]
    },
    {
      "cell_type": "markdown",
      "source": [
        "---\n",
        "\n",
        "**Syntax** is the rules for how each instruction is written.\n",
        "\n",
        "**Semantics** is the effect the instructions have.\n",
        "\n",
        "---\n"
      ],
      "metadata": {
        "id": "vZ1Xsc1pswpy"
      }
    },
    {
      "cell_type": "code",
      "source": [
        "friends = ['Taylor', 'Alex', 'Pat', 'Eli']\n",
        "for friend in friends:\n",
        "  print(\"Hi \"+ friend)"
      ],
      "metadata": {
        "colab": {
          "base_uri": "https://localhost:8080/"
        },
        "id": "ieCk05cE2QBW",
        "outputId": "cc80c0ef-6b3c-4527-8de4-ee0414241db6"
      },
      "execution_count": null,
      "outputs": [
        {
          "output_type": "stream",
          "name": "stdout",
          "text": [
            "Hi Taylor\n",
            "Hi Alex\n",
            "Hi Pat\n",
            "Hi Eli\n"
          ]
        }
      ]
    },
    {
      "cell_type": "markdown",
      "source": [
        "**Interpreter** is the program that reads and executes code.\n",
        "\n",
        "why we use for ***friend*** not for ***friends*** because It's important to use a singular variable name like friend in the loop because each iteration deals with one element (one friend) from the list."
      ],
      "metadata": {
        "id": "_KsUSwTf3GQM"
      }
    },
    {
      "cell_type": "code",
      "source": [
        "for i in range(10):\n",
        "  print(\"Hello, World!\")"
      ],
      "metadata": {
        "colab": {
          "base_uri": "https://localhost:8080/"
        },
        "id": "gDqSJ6Cr5tUE",
        "outputId": "a2419b9c-6c6c-4ac4-95f3-6b9487d1a4bf"
      },
      "execution_count": null,
      "outputs": [
        {
          "output_type": "stream",
          "name": "stdout",
          "text": [
            "Hello, World!\n",
            "Hello, World!\n",
            "Hello, World!\n",
            "Hello, World!\n",
            "Hello, World!\n",
            "Hello, World!\n",
            "Hello, World!\n",
            "Hello, World!\n",
            "Hello, World!\n",
            "Hello, World!\n"
          ]
        }
      ]
    },
    {
      "cell_type": "markdown",
      "source": [
        "**Functions** are pieces of code that perform a unit of work.\n",
        "\n",
        "**Keywords** are reserved words that are used to construct instructions. examples: *if, while, and for*"
      ],
      "metadata": {
        "id": "mDTU20Gz6j7B"
      }
    },
    {
      "cell_type": "code",
      "source": [
        "print(type(\"a\"))\n",
        "print(type(8))\n",
        "print(type(3.4))"
      ],
      "metadata": {
        "colab": {
          "base_uri": "https://localhost:8080/"
        },
        "id": "gspe8X_jAkdS",
        "outputId": "fc608271-996c-41ba-e812-6402325db689"
      },
      "execution_count": null,
      "outputs": [
        {
          "output_type": "stream",
          "name": "stdout",
          "text": [
            "<class 'str'>\n",
            "<class 'int'>\n",
            "<class 'float'>\n"
          ]
        }
      ]
    },
    {
      "cell_type": "markdown",
      "source": [
        "**Variables** are names that we give to certain value in our programs.\n",
        "\n",
        "**Assignment** is the process of storing a value inside a variable.\n",
        "\n",
        "**Expression** is a combination of numbers, symbols, or other variables that produce a result when evaluated."
      ],
      "metadata": {
        "id": "YdziJwjKBAP3"
      }
    },
    {
      "cell_type": "code",
      "source": [
        "length = 20\n",
        "width = 15\n",
        "\n",
        "area = length*width\n",
        "print(str(area)+\"sqr\")"
      ],
      "metadata": {
        "colab": {
          "base_uri": "https://localhost:8080/"
        },
        "id": "EYzwo7taBSFY",
        "outputId": "f6262ecf-bbdc-4e5d-ac4b-7f47ac57f1e0"
      },
      "execution_count": null,
      "outputs": [
        {
          "output_type": "stream",
          "name": "stdout",
          "text": [
            "300sqr\n"
          ]
        }
      ]
    },
    {
      "cell_type": "markdown",
      "source": [
        "**Implicit conversion** is where the interpreter automatically converts one data type into another.\n",
        "\n",
        "the `print(str(area)+\"sqr\")` above are the example of **Explicit conversion**\n",
        "\n",
        "\n"
      ],
      "metadata": {
        "id": "7bYdPrFDC_0-"
      }
    },
    {
      "cell_type": "markdown",
      "source": [
        "###**Practice writing some expressions and conversions yourself.**\n",
        "\n",
        "In this scenario, we have a directory with 5 files in it. Each file has a different size: 2048, 4357, 97658, 125, and 8. Fill in the blanks to calculate the average file size by having Python add all the values for you, and then set the files variable to the number of files. Finally, output a message saying \"The average size is: \" followed by the resulting number. Remember to use the str() function to convert the number into a string."
      ],
      "metadata": {
        "id": "TSVXLziOEEB9"
      }
    },
    {
      "cell_type": "code",
      "source": [
        "size = 2048 + 4357 + 97658 + 125 + 8\n",
        "files = 5\n",
        "average = size/files\n",
        "print(\"The average size is: \" + str(average))"
      ],
      "metadata": {
        "colab": {
          "base_uri": "https://localhost:8080/"
        },
        "id": "MI-QHWehEQvy",
        "outputId": "45f0ea22-aa07-4d1e-ec35-da6c72ee6203"
      },
      "execution_count": null,
      "outputs": [
        {
          "output_type": "stream",
          "name": "stdout",
          "text": [
            "The average size is: 20839.2\n"
          ]
        }
      ]
    },
    {
      "cell_type": "markdown",
      "source": [
        "## **Defining Function**\n",
        "\n",
        "use ***def*** keyword to define function followed by the name of the function.\n",
        "\n",
        "after the name, there are parameters of the function which are written between parentheses followed by a colon at the end of the line.\n",
        "\n",
        "then the body of the function where we state what we want our function to do. (must be to the right of the def)\n",
        "\n",
        "example:\n",
        "\n",
        "\n",
        "```\n",
        "def greeting(name):\n",
        "  print(\"Welcome, \" + name)\n",
        "```\n",
        "\n",
        "the function name = greeting\n",
        "\n",
        "parameter = name\n",
        "\n",
        "body = print..."
      ],
      "metadata": {
        "id": "uO8kuc09XmkY"
      }
    },
    {
      "cell_type": "code",
      "source": [
        "def greeting(name):\n",
        "  print(\"Welcome, \" + name)\n",
        "\n",
        "greeting(\"Clara\")\n",
        "greeting(\"Simon\")\n"
      ],
      "metadata": {
        "colab": {
          "base_uri": "https://localhost:8080/"
        },
        "id": "z6_Vuai7Ywb5",
        "outputId": "3b7ea7e7-b303-421f-94e4-079685a1a196"
      },
      "execution_count": null,
      "outputs": [
        {
          "output_type": "stream",
          "name": "stdout",
          "text": [
            "Welcome, Clara\n",
            "Welcome, Simon\n"
          ]
        }
      ]
    },
    {
      "cell_type": "code",
      "source": [
        "def greet(name, department):\n",
        "  print(\"Welcome, \" + name)\n",
        "  print(\"You are part of \" + department)\n",
        "\n",
        "greet(\"Clara\", \"Accounting\")\n",
        "greet(\"Simon\", \"Strategist\")"
      ],
      "metadata": {
        "colab": {
          "base_uri": "https://localhost:8080/"
        },
        "id": "6UbafrB1ZBkb",
        "outputId": "df5ebc40-ee19-4e8a-f305-ba86ae368722"
      },
      "execution_count": null,
      "outputs": [
        {
          "output_type": "stream",
          "name": "stdout",
          "text": [
            "Welcome, Clara\n",
            "You are part of Accounting\n",
            "Welcome, Simon\n",
            "You are part of Strategist\n"
          ]
        }
      ]
    },
    {
      "cell_type": "markdown",
      "source": [
        "## **Returning Value**\n",
        "\n",
        "when we want to use the result of the function later.\n",
        "\n",
        "imagine we would use following code several times in our code.\n",
        "\n",
        "```\n",
        "height = 20\n",
        "base = 15\n",
        "\n",
        "area = base*height/2\n",
        "```\n",
        "\n",
        "we can returning the value with following code:\n",
        "\n",
        "```\n",
        "def area_triangle(base, height):\n",
        "  return base*height/2\n",
        "```\n",
        "\n"
      ],
      "metadata": {
        "id": "Xp2hkwlYZ2lV"
      }
    },
    {
      "cell_type": "code",
      "source": [
        "def area_triangle(base, height):\n",
        "  return base*height/2\n",
        "\n",
        "area_a = area_triangle(5, 4)\n",
        "area_b = area_triangle(7, 3)\n",
        "\n",
        "sum = area_a + area_b\n",
        "print(\"The sum of both area is: \" + str(sum))"
      ],
      "metadata": {
        "colab": {
          "base_uri": "https://localhost:8080/"
        },
        "id": "PDTBOPrAbKO5",
        "outputId": "9a8012ea-4260-4263-ab49-5fbcd88df4e4"
      },
      "execution_count": null,
      "outputs": [
        {
          "output_type": "stream",
          "name": "stdout",
          "text": [
            "The sumof both area is: 20.5\n"
          ]
        }
      ]
    },
    {
      "cell_type": "code",
      "source": [
        "def convert_seconds(seconds):\n",
        "  hours = seconds//3600\n",
        "  minutes = (seconds - hours*3600)//60\n",
        "  remaining_seconds = seconds - hours*3600 - minutes*60\n",
        "  return hours, minutes, remaining_seconds\n",
        "\n",
        "hours, minutes, seconds = convert_seconds(5000)\n",
        "print(hours, minutes, seconds)"
      ],
      "metadata": {
        "colab": {
          "base_uri": "https://localhost:8080/"
        },
        "id": "1pHf19zocDaV",
        "outputId": "994c77f2-0438-468f-e7e8-7c4b2772f243"
      },
      "execution_count": null,
      "outputs": [
        {
          "output_type": "stream",
          "name": "stdout",
          "text": [
            "1 23 20\n"
          ]
        }
      ]
    },
    {
      "cell_type": "markdown",
      "source": [
        "the // is ***floor devision***, which means it divides a number and takes the integer part of the division as the result\n",
        "\n",
        "for example, 5//2 is 2 instead of 2.5"
      ],
      "metadata": {
        "id": "q2zKD2QPceWU"
      }
    }
  ]
}