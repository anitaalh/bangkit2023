{
  "nbformat": 4,
  "nbformat_minor": 0,
  "metadata": {
    "colab": {
      "provenance": [],
      "authorship_tag": "ABX9TyOHj5uOOmxtBuV5lCuwVKRu",
      "include_colab_link": true
    },
    "kernelspec": {
      "name": "python3",
      "display_name": "Python 3"
    },
    "language_info": {
      "name": "python"
    }
  },
  "cells": [
    {
      "cell_type": "markdown",
      "metadata": {
        "id": "view-in-github",
        "colab_type": "text"
      },
      "source": [
        "<a href=\"https://colab.research.google.com/github/anitaalh/bangkit2023/blob/main/python_crash_course.ipynb\" target=\"_parent\"><img src=\"https://colab.research.google.com/assets/colab-badge.svg\" alt=\"Open In Colab\"/></a>"
      ]
    },
    {
      "cell_type": "markdown",
      "source": [
        "---\n",
        "\n",
        "**Syntax** is the rules for how each instruction is written.\n",
        "\n",
        "**Semantics** is the effect the instructions have.\n",
        "\n",
        "---\n"
      ],
      "metadata": {
        "id": "vZ1Xsc1pswpy"
      }
    },
    {
      "cell_type": "code",
      "source": [
        "friends = ['Taylor', 'Alex', 'Pat', 'Eli']\n",
        "for friend in friends:\n",
        "  print(\"Hi \"+ friend)"
      ],
      "metadata": {
        "colab": {
          "base_uri": "https://localhost:8080/"
        },
        "id": "ieCk05cE2QBW",
        "outputId": "cc80c0ef-6b3c-4527-8de4-ee0414241db6"
      },
      "execution_count": null,
      "outputs": [
        {
          "output_type": "stream",
          "name": "stdout",
          "text": [
            "Hi Taylor\n",
            "Hi Alex\n",
            "Hi Pat\n",
            "Hi Eli\n"
          ]
        }
      ]
    },
    {
      "cell_type": "markdown",
      "source": [
        "**Interpreter** is the program that reads and executes code.\n",
        "\n",
        "why we use for ***friend*** not for ***friends*** because It's important to use a singular variable name like friend in the loop because each iteration deals with one element (one friend) from the list."
      ],
      "metadata": {
        "id": "_KsUSwTf3GQM"
      }
    },
    {
      "cell_type": "code",
      "source": [
        "for i in range(10):\n",
        "  print(\"Hello, World!\")"
      ],
      "metadata": {
        "colab": {
          "base_uri": "https://localhost:8080/"
        },
        "id": "gDqSJ6Cr5tUE",
        "outputId": "a2419b9c-6c6c-4ac4-95f3-6b9487d1a4bf"
      },
      "execution_count": null,
      "outputs": [
        {
          "output_type": "stream",
          "name": "stdout",
          "text": [
            "Hello, World!\n",
            "Hello, World!\n",
            "Hello, World!\n",
            "Hello, World!\n",
            "Hello, World!\n",
            "Hello, World!\n",
            "Hello, World!\n",
            "Hello, World!\n",
            "Hello, World!\n",
            "Hello, World!\n"
          ]
        }
      ]
    },
    {
      "cell_type": "markdown",
      "source": [
        "**Functions** are pieces of code that perform a unit of work.\n",
        "\n",
        "**Keywords** are reserved words that are used to construct instructions. examples: *if, while, and for*"
      ],
      "metadata": {
        "id": "mDTU20Gz6j7B"
      }
    },
    {
      "cell_type": "code",
      "source": [
        "print(type(\"a\"))\n",
        "print(type(8))\n",
        "print(type(3.4))"
      ],
      "metadata": {
        "colab": {
          "base_uri": "https://localhost:8080/"
        },
        "id": "gspe8X_jAkdS",
        "outputId": "fc608271-996c-41ba-e812-6402325db689"
      },
      "execution_count": null,
      "outputs": [
        {
          "output_type": "stream",
          "name": "stdout",
          "text": [
            "<class 'str'>\n",
            "<class 'int'>\n",
            "<class 'float'>\n"
          ]
        }
      ]
    },
    {
      "cell_type": "markdown",
      "source": [
        "**Variables** are names that we give to certain value in our programs.\n",
        "\n",
        "**Assignment** is the process of storing a value inside a variable.\n",
        "\n",
        "**Expression** is a combination of numbers, symbols, or other variables that produce a result when evaluated."
      ],
      "metadata": {
        "id": "YdziJwjKBAP3"
      }
    },
    {
      "cell_type": "code",
      "source": [
        "length = 20\n",
        "width = 15\n",
        "\n",
        "area = length*width\n",
        "print(str(area)+\"sqr\")"
      ],
      "metadata": {
        "colab": {
          "base_uri": "https://localhost:8080/"
        },
        "id": "EYzwo7taBSFY",
        "outputId": "f6262ecf-bbdc-4e5d-ac4b-7f47ac57f1e0"
      },
      "execution_count": null,
      "outputs": [
        {
          "output_type": "stream",
          "name": "stdout",
          "text": [
            "300sqr\n"
          ]
        }
      ]
    },
    {
      "cell_type": "markdown",
      "source": [
        "**Implicit conversion** is where the interpreter automatically converts one data type into another.\n",
        "\n",
        "the `print(str(area)+\"sqr\")` above are the example of **Explicit conversion**\n",
        "\n",
        "\n"
      ],
      "metadata": {
        "id": "7bYdPrFDC_0-"
      }
    },
    {
      "cell_type": "markdown",
      "source": [
        "###**Practice writing some expressions and conversions yourself.**\n",
        "\n",
        "In this scenario, we have a directory with 5 files in it. Each file has a different size: 2048, 4357, 97658, 125, and 8. Fill in the blanks to calculate the average file size by having Python add all the values for you, and then set the files variable to the number of files. Finally, output a message saying \"The average size is: \" followed by the resulting number. Remember to use the str() function to convert the number into a string."
      ],
      "metadata": {
        "id": "TSVXLziOEEB9"
      }
    },
    {
      "cell_type": "code",
      "source": [
        "size = 2048 + 4357 + 97658 + 125 + 8\n",
        "files = 5\n",
        "average = size/files\n",
        "print(\"The average size is: \" + str(average))"
      ],
      "metadata": {
        "colab": {
          "base_uri": "https://localhost:8080/"
        },
        "id": "MI-QHWehEQvy",
        "outputId": "45f0ea22-aa07-4d1e-ec35-da6c72ee6203"
      },
      "execution_count": null,
      "outputs": [
        {
          "output_type": "stream",
          "name": "stdout",
          "text": [
            "The average size is: 20839.2\n"
          ]
        }
      ]
    },
    {
      "cell_type": "markdown",
      "source": [
        "## **Defining Function**\n",
        "\n",
        "use ***def*** keyword to define function followed by the name of the function.\n",
        "\n",
        "after the name, there are parameters of the function which are written between parentheses followed by a colon at the end of the line.\n",
        "\n",
        "then the body of the function where we state what we want our function to do. (must be to the right of the def)\n",
        "\n",
        "example:\n",
        "\n",
        "\n",
        "```\n",
        "def greeting(name):\n",
        "  print(\"Welcome, \" + name)\n",
        "```\n",
        "\n",
        "the function name = greeting\n",
        "\n",
        "parameter = name\n",
        "\n",
        "body = print..."
      ],
      "metadata": {
        "id": "uO8kuc09XmkY"
      }
    },
    {
      "cell_type": "code",
      "source": [
        "def greeting(name):\n",
        "  print(\"Welcome, \" + name)\n",
        "\n",
        "greeting(\"Clara\")\n",
        "greeting(\"Simon\")\n"
      ],
      "metadata": {
        "colab": {
          "base_uri": "https://localhost:8080/"
        },
        "id": "z6_Vuai7Ywb5",
        "outputId": "3b7ea7e7-b303-421f-94e4-079685a1a196"
      },
      "execution_count": null,
      "outputs": [
        {
          "output_type": "stream",
          "name": "stdout",
          "text": [
            "Welcome, Clara\n",
            "Welcome, Simon\n"
          ]
        }
      ]
    },
    {
      "cell_type": "code",
      "source": [
        "def greet(name, department):\n",
        "  print(\"Welcome, \" + name)\n",
        "  print(\"You are part of \" + department)\n",
        "\n",
        "greet(\"Clara\", \"Accounting\")\n",
        "greet(\"Simon\", \"Strategist\")"
      ],
      "metadata": {
        "colab": {
          "base_uri": "https://localhost:8080/"
        },
        "id": "6UbafrB1ZBkb",
        "outputId": "df5ebc40-ee19-4e8a-f305-ba86ae368722"
      },
      "execution_count": null,
      "outputs": [
        {
          "output_type": "stream",
          "name": "stdout",
          "text": [
            "Welcome, Clara\n",
            "You are part of Accounting\n",
            "Welcome, Simon\n",
            "You are part of Strategist\n"
          ]
        }
      ]
    },
    {
      "cell_type": "markdown",
      "source": [
        "## **Returning Value**\n",
        "\n",
        "when we want to use the result of the function later.\n",
        "\n",
        "imagine we would use following code several times in our code.\n",
        "\n",
        "```\n",
        "height = 20\n",
        "base = 15\n",
        "\n",
        "area = base*height/2\n",
        "```\n",
        "\n",
        "we can returning the value with following code:\n",
        "\n",
        "```\n",
        "def area_triangle(base, height):\n",
        "  return base*height/2\n",
        "```\n",
        "\n"
      ],
      "metadata": {
        "id": "Xp2hkwlYZ2lV"
      }
    },
    {
      "cell_type": "code",
      "source": [
        "def area_triangle(base, height):\n",
        "  return base*height/2\n",
        "\n",
        "area_a = area_triangle(5, 4)\n",
        "area_b = area_triangle(7, 3)\n",
        "\n",
        "sum = area_a + area_b\n",
        "print(\"The sum of both area is: \" + str(sum))"
      ],
      "metadata": {
        "colab": {
          "base_uri": "https://localhost:8080/"
        },
        "id": "PDTBOPrAbKO5",
        "outputId": "9a8012ea-4260-4263-ab49-5fbcd88df4e4"
      },
      "execution_count": null,
      "outputs": [
        {
          "output_type": "stream",
          "name": "stdout",
          "text": [
            "The sumof both area is: 20.5\n"
          ]
        }
      ]
    },
    {
      "cell_type": "code",
      "source": [
        "def convert_seconds(seconds):\n",
        "  hours = seconds//3600\n",
        "  minutes = (seconds - hours*3600)//60\n",
        "  remaining_seconds = seconds - hours*3600 - minutes*60\n",
        "  return hours, minutes, remaining_seconds\n",
        "\n",
        "hours, minutes, seconds = convert_seconds(5000)\n",
        "print(hours, minutes, seconds)"
      ],
      "metadata": {
        "colab": {
          "base_uri": "https://localhost:8080/"
        },
        "id": "1pHf19zocDaV",
        "outputId": "994c77f2-0438-468f-e7e8-7c4b2772f243"
      },
      "execution_count": null,
      "outputs": [
        {
          "output_type": "stream",
          "name": "stdout",
          "text": [
            "1 23 20\n"
          ]
        }
      ]
    },
    {
      "cell_type": "markdown",
      "source": [
        "the // is ***floor devision***, which means it divides a number and takes the integer part of the division as the result\n",
        "\n",
        "for example, 5//2 is 2 instead of 2.5"
      ],
      "metadata": {
        "id": "q2zKD2QPceWU"
      }
    },
    {
      "cell_type": "markdown",
      "source": [
        "##**Comparing Things**\n",
        "\n",
        "== equal operators\n",
        "\n",
        "!= not equal equators\n",
        "\n",
        "< smaller\n",
        "\n",
        "' > bigger\n",
        "\n",
        "##Logical Operator\n",
        "\n",
        "allow to connect multiple statements together and perform more complex comparisons.\n",
        "\n",
        "Logical operators in Python:\n",
        "1. **and** : need all the expressions to be true at the same time.\n",
        "2. **or** : the expression will be true if either of the expressions are true, and false when both of the expressions are false.\n",
        "3. **not** : inverts the value of the expression that's in front of it. if true become false, if false become true.\n",
        "\n"
      ],
      "metadata": {
        "id": "IzfTE7IGPZ4b"
      }
    },
    {
      "cell_type": "markdown",
      "source": [
        "##**IF Statements**\n",
        "\n",
        "**If statement** is written with **keyword** ***if*** followed with the condition that we want to check for, and then followed by a colon after that, comes the **body** of the if block which is indented further to the right.\n",
        "\n",
        "the body of the if block will only execute when the condition evaluates to true; otherwise it's skipped.\n",
        "\n",
        "example:\n",
        "\n",
        "\n",
        "```\n",
        "def hint_username(username):\n",
        "  if len(username) < 3:\n",
        "    print(\"Invalid username. Must be at least 3 characters long\")\n",
        "```\n",
        "\n",
        "##**ELSE Statement**\n",
        "\n",
        "```\n",
        "def hint_username(username):\n",
        "  if len(username) < 3:\n",
        "    print(\"Invalid username. Must be at least 3 characters long\")\n",
        "  else:\n",
        "    print(\"Username is Valid!\")\n",
        "```\n",
        "\n",
        "or\n",
        "\n",
        "```\n",
        "def is_even(number):\n",
        "  if number % 2 == 0:\n",
        "    return True\n",
        "  return False\n",
        "```\n",
        "\n",
        "above statement called **Modulo Operator**\n",
        "\n",
        "##**ELIF Statement**\n",
        "\n",
        "elif statement could handle more than two comparison cases. no limit for how many condition can be handle.\n",
        "\n",
        "```\n",
        "def hint_username(username):\n",
        "  if len(username) < 3:\n",
        "    print(\"Invalid username. Must be at least 3 characters long\")\n",
        "  elif len(username) > 15:\n",
        "    print(\"Invalid username. Must be at most 15 characters long\")\n",
        "  else:\n",
        "    print(\"Username is Valid!\")\n",
        "\n",
        "\n"
      ],
      "metadata": {
        "id": "CFn7ySW1RlR0"
      }
    },
    {
      "cell_type": "markdown",
      "source": [
        "##**Loops**\n",
        "\n",
        "**While Loop** = instruct the computer to continuously execute the code based on the value of a condition.\n",
        "\n",
        "The initializing is important.\n"
      ],
      "metadata": {
        "id": "RDQ140XLKJRU"
      }
    },
    {
      "cell_type": "code",
      "source": [
        "x = -5\n",
        "while x < 5:\n",
        "  print(\"Not there yet, x=\" + str(x))\n",
        "  x = x + 1\n",
        "print(\"x=\" +str(x))"
      ],
      "metadata": {
        "colab": {
          "base_uri": "https://localhost:8080/"
        },
        "id": "iDz9kh0WMFLD",
        "outputId": "50e911ff-149c-40dc-f05f-5df4cffb54fc"
      },
      "execution_count": null,
      "outputs": [
        {
          "output_type": "stream",
          "name": "stdout",
          "text": [
            "Not there yet, x=-5\n",
            "Not there yet, x=-4\n",
            "Not there yet, x=-3\n",
            "Not there yet, x=-2\n",
            "Not there yet, x=-1\n",
            "Not there yet, x=0\n",
            "Not there yet, x=1\n",
            "Not there yet, x=2\n",
            "Not there yet, x=3\n",
            "Not there yet, x=4\n",
            "x=5\n"
          ]
        }
      ]
    },
    {
      "cell_type": "code",
      "source": [
        "def attempts(n):\n",
        "  x = 1 #Initializing\n",
        "  while x <= n:\n",
        "    print(\"Attempt \" + str(x))\n",
        "    x += 1 # same as x = x+1\n",
        "  print(\"Done\")\n",
        "\n",
        "attempts(5)"
      ],
      "metadata": {
        "colab": {
          "base_uri": "https://localhost:8080/"
        },
        "id": "-zErOxpHOTMD",
        "outputId": "a1ffaea7-27f7-4668-df83-f3c927644128"
      },
      "execution_count": null,
      "outputs": [
        {
          "output_type": "stream",
          "name": "stdout",
          "text": [
            "Attempt 1\n",
            "Attempt 2\n",
            "Attempt 3\n",
            "Attempt 4\n",
            "Attempt 5\n",
            "Done\n"
          ]
        }
      ]
    },
    {
      "cell_type": "code",
      "source": [
        "def count_down(start_number):\n",
        "  current = start_number\n",
        "  while (current > 0):\n",
        "    print(current)\n",
        "    current -= 1\n",
        "  print(\"Zero!\")\n",
        "\n",
        "count_down(5)"
      ],
      "metadata": {
        "colab": {
          "base_uri": "https://localhost:8080/"
        },
        "id": "NtVsoV8sRTyq",
        "outputId": "6c7d33d4-0b6a-4f65-a689-93fce44dbb08"
      },
      "execution_count": null,
      "outputs": [
        {
          "output_type": "stream",
          "name": "stdout",
          "text": [
            "5\n",
            "4\n",
            "3\n",
            "2\n",
            "1\n",
            "Zero!\n"
          ]
        }
      ]
    },
    {
      "cell_type": "markdown",
      "source": [
        "##**FOR Loops**\n",
        "\n",
        "FOR loops iterates over a sqeuences of values.\n",
        "\n",
        "range in python:\n",
        "1. a range of numbers will start with the value 0 by default.\n",
        "2. the list of numbers generated will be one less than the given value.\n",
        "\n",
        "you can use for loops to:\n",
        "- copy files to machines\n",
        "- process the contents of files\n",
        "- automatically install software\n",
        "\n",
        "use **for** loops when there's sequence of elements that you want to iterate.\n",
        "\n",
        "use **while** loops when you want to repeat an action untill a condition changes."
      ],
      "metadata": {
        "id": "JKmByNwWq64a"
      }
    },
    {
      "cell_type": "code",
      "source": [
        "for x in range(5):\n",
        "  print(x)"
      ],
      "metadata": {
        "colab": {
          "base_uri": "https://localhost:8080/"
        },
        "id": "4cZ9yy-KrPJF",
        "outputId": "950d72ff-c95e-4cb0-b126-b4d84bd5c548"
      },
      "execution_count": 4,
      "outputs": [
        {
          "output_type": "stream",
          "name": "stdout",
          "text": [
            "0\n",
            "1\n",
            "2\n",
            "3\n",
            "4\n"
          ]
        }
      ]
    },
    {
      "cell_type": "code",
      "source": [
        "values = [23, 52, 59, 37, 48]\n",
        "sum = 0\n",
        "length = 0\n",
        "for value in values:\n",
        "  sum += value\n",
        "  length += 1\n",
        "print(\"Total sum: \" +  str(sum) + \" - Average: \" +str(sum/length))"
      ],
      "metadata": {
        "colab": {
          "base_uri": "https://localhost:8080/"
        },
        "id": "2ouUQpHus2jd",
        "outputId": "06027f66-532b-49e5-c68f-c8e26cefefc3"
      },
      "execution_count": 5,
      "outputs": [
        {
          "output_type": "stream",
          "name": "stdout",
          "text": [
            "Total sum: 219 - Average: 43.8\n"
          ]
        }
      ]
    },
    {
      "cell_type": "code",
      "source": [
        "product = 1\n",
        "for n in range (1, 10): #from 1 to 10\n",
        "  product = product * n\n",
        "\n",
        "print(product)"
      ],
      "metadata": {
        "colab": {
          "base_uri": "https://localhost:8080/"
        },
        "id": "_2yH1BAhu-fM",
        "outputId": "5f11b110-9bbb-4b31-e12a-9daea0275b58"
      },
      "execution_count": 6,
      "outputs": [
        {
          "output_type": "stream",
          "name": "stdout",
          "text": [
            "362880\n"
          ]
        }
      ]
    },
    {
      "cell_type": "code",
      "source": [
        "def to_celsius(x):\n",
        "  return (x-32)*5/9\n",
        "\n",
        "for x in range(0, 101, 10):\n",
        "  print(x, to_celsius(x))"
      ],
      "metadata": {
        "colab": {
          "base_uri": "https://localhost:8080/"
        },
        "id": "iitxoMXMvOpT",
        "outputId": "c2edefd8-8d45-4d9c-cc35-37bcab8f1282"
      },
      "execution_count": 7,
      "outputs": [
        {
          "output_type": "stream",
          "name": "stdout",
          "text": [
            "0 -17.77777777777778\n",
            "10 -12.222222222222221\n",
            "20 -6.666666666666667\n",
            "30 -1.1111111111111112\n",
            "40 4.444444444444445\n",
            "50 10.0\n",
            "60 15.555555555555555\n",
            "70 21.11111111111111\n",
            "80 26.666666666666668\n",
            "90 32.22222222222222\n",
            "100 37.77777777777778\n"
          ]
        }
      ]
    }
  ]
}